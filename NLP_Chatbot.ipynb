{
  "nbformat": 4,
  "nbformat_minor": 0,
  "metadata": {
    "colab": {
      "provenance": []
    },
    "kernelspec": {
      "name": "python3",
      "display_name": "Python 3"
    },
    "language_info": {
      "name": "python"
    }
  },
  "cells": [
    {
      "cell_type": "code",
      "execution_count": 67,
      "metadata": {
        "id": "tc5NkDZ5XWCU"
      },
      "outputs": [],
      "source": [
        "import io\n",
        "import random\n",
        "import string \n",
        "import warnings\n",
        "import numpy as np\n",
        "from sklearn.feature_extraction.text import TfidfVectorizer\n",
        "from sklearn.metrics.pairwise import cosine_similarity\n",
        "import warnings\n",
        "warnings.filterwarnings('ignore')"
      ]
    },
    {
      "cell_type": "code",
      "source": [
        "pip install nltk"
      ],
      "metadata": {
        "colab": {
          "base_uri": "https://localhost:8080/"
        },
        "id": "K2u1SytxXvIT",
        "outputId": "36cb9204-4228-49cf-ba90-d97c65fbcb8a"
      },
      "execution_count": 68,
      "outputs": [
        {
          "output_type": "stream",
          "name": "stdout",
          "text": [
            "Looking in indexes: https://pypi.org/simple, https://us-python.pkg.dev/colab-wheels/public/simple/\n",
            "Requirement already satisfied: nltk in /usr/local/lib/python3.9/dist-packages (3.8.1)\n",
            "Requirement already satisfied: click in /usr/local/lib/python3.9/dist-packages (from nltk) (8.1.3)\n",
            "Requirement already satisfied: tqdm in /usr/local/lib/python3.9/dist-packages (from nltk) (4.65.0)\n",
            "Requirement already satisfied: joblib in /usr/local/lib/python3.9/dist-packages (from nltk) (1.1.1)\n",
            "Requirement already satisfied: regex>=2021.8.3 in /usr/local/lib/python3.9/dist-packages (from nltk) (2022.10.31)\n"
          ]
        }
      ]
    },
    {
      "cell_type": "code",
      "source": [
        "# Installing NLTK Packages\n",
        "import nltk\n",
        "from nltk.stem import WordNetLemmatizer\n",
        "nltk.download('popular', quiet=True)\n",
        "nltk.download('punkt') \n",
        "nltk.download('wordnet') "
      ],
      "metadata": {
        "colab": {
          "base_uri": "https://localhost:8080/"
        },
        "id": "ghg6AgjhX0ct",
        "outputId": "807451cd-1bb5-44a9-c45e-1e4dfb56d99a"
      },
      "execution_count": 56,
      "outputs": [
        {
          "output_type": "stream",
          "name": "stderr",
          "text": [
            "[nltk_data] Downloading package punkt to /root/nltk_data...\n",
            "[nltk_data]   Package punkt is already up-to-date!\n",
            "[nltk_data] Downloading package wordnet to /root/nltk_data...\n",
            "[nltk_data]   Package wordnet is already up-to-date!\n"
          ]
        },
        {
          "output_type": "execute_result",
          "data": {
            "text/plain": [
              "True"
            ]
          },
          "metadata": {},
          "execution_count": 56
        }
      ]
    },
    {
      "cell_type": "code",
      "source": [
        "file=open('/content/Visa_Queries_GOI.txt','r',errors = 'ignore')\n",
        "raw_file=file.read()\n",
        "raw_file = raw_file.lower()"
      ],
      "metadata": {
        "id": "o_Jf3hXxYGvf"
      },
      "execution_count": 69,
      "outputs": []
    },
    {
      "cell_type": "code",
      "source": [
        "# Tokenization\n",
        "sentence_tokens = nltk.sent_tokenize(raw_file)\n",
        "word_tokens = nltk.word_tokenize(raw_file)"
      ],
      "metadata": {
        "id": "8qfZ0Z1FYUXy"
      },
      "execution_count": 70,
      "outputs": []
    },
    {
      "cell_type": "code",
      "source": [
        "# Preprocessing\n",
        "lemmer = nltk.stem.WordNetLemmatizer()\n",
        "def LemTokens(tokens):\n",
        "    return [lemmer.lemmatize(token) for token in tokens]\n",
        "remove_punct_dict = dict((ord(punct), None) for punct in string.punctuation)\n",
        "\n",
        "def LemNormalize(text):\n",
        "    return LemTokens(nltk.word_tokenize(text.lower().translate(remove_punct_dict)))"
      ],
      "metadata": {
        "id": "nzbds9c9Yidb"
      },
      "execution_count": 71,
      "outputs": []
    },
    {
      "cell_type": "code",
      "source": [
        "# Keyword Matching\n",
        "greeting_inputs = (\"hello\", \"hi\", \"greetings\", \"sup\", \"what's up\",\"hey\",)\n",
        "greeting_responses = [\"Hi\", \"Hey\", \"Namaste🙏🏻\", \"Hey there!!!\", \"Nothing much,how are you doing?\", \"I am glad! You are talking to me\"]\n",
        "def greeting(sentence):\n",
        " \n",
        "    for word in sentence.split():\n",
        "        if word.lower() in greeting_inputs:\n",
        "            return random.choice(greeting_responses)"
      ],
      "metadata": {
        "id": "b8AsLaJXYqDk"
      },
      "execution_count": 72,
      "outputs": []
    },
    {
      "cell_type": "code",
      "source": [
        "def response(user_response):\n",
        "    visa_robo_response=' '\n",
        "    sentence_tokens.append(user_response)\n",
        "    TfidfVec = TfidfVectorizer(tokenizer=LemNormalize, stop_words='english')\n",
        "    tfidf = TfidfVec.fit_transform(sentence_tokens)\n",
        "    vals = cosine_similarity(tfidf[-1], tfidf)\n",
        "    idx=vals.argsort()[0][-2]\n",
        "    flat = vals.flatten()\n",
        "    flat.sort()\n",
        "    req_tfidf = flat[-2]\n",
        "    if(req_tfidf==0):\n",
        "        visa_robo_response = visa_robo_response+\"I am sorry!, I coudn't understand you.\"\n",
        "        return visa_robo_response\n",
        "    else:\n",
        "        visa_robo_response = visa_robo_response+sentence_tokens[idx]\n",
        "        return visa_robo_response"
      ],
      "metadata": {
        "id": "jRuAPbc5YxXC"
      },
      "execution_count": 73,
      "outputs": []
    },
    {
      "cell_type": "code",
      "source": [
        "flag=True\n",
        "print(\"Jarvis : I am Jarvis. How could I help you?\")\n",
        "while(flag==True):\n",
        "    user_response = input()\n",
        "    user_response=user_response.lower()\n",
        "    if(user_response!='bye'):\n",
        "        if(user_response=='thanks' or user_response=='thank you' ):\n",
        "            flag=False\n",
        "            print(\"Jarvis : You are welcome.\")\n",
        "        else:\n",
        "            if(greeting(user_response)!=None):\n",
        "                print(\"Jarvis : \"+greeting(user_response))\n",
        "            else:\n",
        "                print(\"Jarvis : \",end=\"\")\n",
        "                print(response(user_response))\n",
        "                sentence_tokens.remove(user_response)\n",
        "    else:\n",
        "        flag=False\n",
        "        print(\"Jarvis: Bye,Take care...\")"
      ],
      "metadata": {
        "colab": {
          "base_uri": "https://localhost:8080/"
        },
        "id": "UDf80zRgY45a",
        "outputId": "631904ed-6c94-4063-e7bf-5f98ad6d5f26"
      },
      "execution_count": 76,
      "outputs": [
        {
          "output_type": "stream",
          "name": "stdout",
          "text": [
            "Jarvis : I am Jarvis. How could I help you?\n",
            "Hi\n",
            "Jarvis : Hey\n",
            "What are the conditions to be fulfilled for grant of a Business visa?\n",
            "Jarvis :  the conditions to be fulfilled for grant of a business visa\n",
            "are as follows:-\n",
            "(i) the foreign national must have a valid travel\n",
            "document and a re-entry permit, if required under the\n",
            "law of the country of nationality of the applicant.\n",
            "Which category of Visa will be granted to the foreign specialist Chefs?\n",
            "Jarvis :  employment visa\n",
            "\n",
            "which category of visa will be granted to the foreign\n",
            "specialist chefs?\n",
            "thanks\n",
            "Jarvis : You are welcome.\n"
          ]
        }
      ]
    }
  ]
}